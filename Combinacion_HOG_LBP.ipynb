{
 "cells": [
  {
   "cell_type": "code",
   "execution_count": 2,
   "metadata": {},
   "outputs": [],
   "source": [
    "# Cargo las librerías necesarias\n",
    "from sklearn.metrics import confusion_matrix\n",
    "import numpy as np\n",
    "import cv2 as cv2\n",
    "from matplotlib import pyplot as plt\n",
    "from os import scandir, getcwd\n",
    "from os.path import abspath\n",
    "from sklearn.svm import SVC\n",
    "from sklearn.metrics import confusion_matrix\n",
    "import itertools\n",
    "from sklearn.metrics import classification_report\n",
    "from sklearn.model_selection import cross_val_score\n",
    "from sklearn.model_selection import KFold\n",
    "from sklearn.model_selection import cross_val_score\n",
    "from sklearn.model_selection import GridSearchCV\n",
    "from tqdm import tqdm\n",
    "import pickle\n",
    "from joblib import dump, load\n",
    "\n",
    "# Seteo de paths y archivos de prueba\n",
    "PATH_POSITIVE_TRAIN = \"data/train/pedestrians/\"\n",
    "PATH_NEGATIVE_TRAIN = \"data/train/background/\"\n",
    "PATH_POSITIVE_TEST = \"data/test/pedestrians/\"\n",
    "PATH_NEGATIVE_TEST = \"data/test/background/\"\n",
    "EXAMPLE_POSITIVE = PATH_POSITIVE_TEST + \"AnnotationsPos_0.000000_crop_000011b_0.png\"\n",
    "EXAMPLE_NEGATIVE = PATH_NEGATIVE_TEST + \"AnnotationsNeg_0.000000_00000002a_0.png\"\n",
    "\n",
    "def plot_confusion_matrix(cm, classes, title='Confusion matrix', cmap=plt.cm.Blues):\n",
    "    \"\"\"\n",
    "    Función para graficar una matriz de confusion\n",
    "    \n",
    "    Parámetros:\n",
    "    cm --      matriz de confusion\n",
    "    classes -- etiquetas de las clases\n",
    "    title --   título del grafico\n",
    "    cmap --    colores a emplear para graficar\n",
    "    \"\"\"\n",
    "\n",
    "    plt.imshow(cm, interpolation='nearest', cmap=cmap)\n",
    "    plt.title(title)\n",
    "    plt.colorbar()\n",
    "    tick_marks = np.arange(len(classes))\n",
    "    plt.xticks(tick_marks, classes, rotation=45)\n",
    "    plt.yticks(tick_marks, classes)\n",
    "\n",
    "    fmt = 'd'\n",
    "    thresh = cm.max() / 2.\n",
    "    for i, j in itertools.product(range(cm.shape[0]), range(cm.shape[1])):\n",
    "        plt.text(j, i, format(cm[i, j], fmt),\n",
    "                 horizontalalignment=\"center\",\n",
    "                 color=\"white\" if cm[i, j] > thresh else \"black\")\n",
    "\n",
    "    plt.ylabel('True label')\n",
    "    plt.xlabel('Predicted label')\n",
    "    plt.tight_layout()\n"
   ]
  },
  {
   "cell_type": "markdown",
   "metadata": {},
   "source": [
    "# Seccion 1. Prueba sobre el dataset de test\n",
    "\n",
    "Cargo los datos de entrenammiento"
   ]
  },
  {
   "cell_type": "code",
   "execution_count": 2,
   "metadata": {},
   "outputs": [],
   "source": [
    "X_train_HOG = np.load(\"X_Train_HOG.npy\") # HOG\n",
    "X_train_LBP = np.load(\"X_Train_lbp.npy\") # LBP\n",
    "y_train = np.load(\"y_train_lbp.npy\")     # Etiquetas\n",
    "X_train_mix = np.concatenate((X_train_HOG, X_train_LBP), axis = 1) # Uno HOG + LBP"
   ]
  },
  {
   "cell_type": "code",
   "execution_count": 3,
   "metadata": {},
   "outputs": [
    {
     "data": {
      "text/plain": [
       "['HOG+LBP_clf.joblib']"
      ]
     },
     "execution_count": 3,
     "metadata": {},
     "output_type": "execute_result"
    }
   ],
   "source": [
    "# Creo una SVM con kernel linear\n",
    "clf = SVC(kernel=\"linear\")\n",
    "\n",
    "# Entreno la SVM\n",
    "clf.fit(X_train_mix, y_train)\n",
    "\n",
    "# Guardo el modelo entreando\n",
    "dump(clf, 'HOG+LBP_clf.joblib')\n"
   ]
  },
  {
   "cell_type": "markdown",
   "metadata": {},
   "source": [
    "Cargo los datos de test"
   ]
  },
  {
   "cell_type": "code",
   "execution_count": 4,
   "metadata": {},
   "outputs": [],
   "source": [
    "X_test_HOG = np.load(\"X_Test_HOG.npy\")\n",
    "X_test_LBP = np.load(\"X_Test_lbp.npy\")\n",
    "X_test_mix = np.concatenate((X_test_HOG, X_test_LBP), axis = 1)\n",
    "y_test = np.load(\"y_test_HOG.npy\")"
   ]
  },
  {
   "cell_type": "code",
   "execution_count": 5,
   "metadata": {},
   "outputs": [
    {
     "name": "stdout",
     "output_type": "stream",
     "text": [
      "              precision    recall  f1-score   support\n",
      "\n",
      "  background       0.99      1.00      0.99       600\n",
      " pedestrians       1.00      0.99      0.99       500\n",
      "\n",
      "   micro avg       0.99      0.99      0.99      1100\n",
      "   macro avg       0.99      0.99      0.99      1100\n",
      "weighted avg       0.99      0.99      0.99      1100\n",
      "\n"
     ]
    }
   ],
   "source": [
    "# Realizo predicciones sobre el dataset de test\n",
    "predicciones = clf.predict(X_test_mix)\n",
    "\n",
    "# Imprimo un reporte de la clasificación\n",
    "target_names = ['background', 'pedestrians']\n",
    "print(classification_report(y_test, predicciones, target_names=target_names))"
   ]
  },
  {
   "cell_type": "code",
   "execution_count": 6,
   "metadata": {},
   "outputs": [
    {
     "data": {
      "image/png": "[encoded data removed]",
      "text/plain": [
       "<Figure size 432x288 with 2 Axes>"
      ]
     },
     "metadata": {
      "needs_background": "light"
     },
     "output_type": "display_data"
    }
   ],
   "source": [
    "# Calculo la matriz de confusion\n",
    "cnf_matrix = confusion_matrix(y_test, predicciones)\n",
    "\n",
    "# Grafico la matriz de confusion\n",
    "np.set_printoptions(precision=2)\n",
    "plt.figure()\n",
    "plot_confusion_matrix(cnf_matrix, classes=target_names,\n",
    "                      title='Matriz de confusion')\n",
    "plt.savefig(\"img/HOG_LBP_Confusion.png\")"
   ]
  },
  {
   "cell_type": "markdown",
   "metadata": {},
   "source": [
    "# Seccion 2. K-Fold Cross Validation"
   ]
  },
  {
   "cell_type": "code",
   "execution_count": 3,
   "metadata": {},
   "outputs": [],
   "source": [
    "data_LBP = np.load(\"allData_lbp.npy\")\n",
    "data_HOG = np.load(\"allData_HOG.npy\")\n",
    "allClasses = np.load(\"allClasses_HOG.npy\")\n",
    "\n",
    "data_merged = np.concatenate((data_HOG, data_LBP), axis = 1)"
   ]
  },
  {
   "cell_type": "code",
   "execution_count": 4,
   "metadata": {},
   "outputs": [
    {
     "name": "stdout",
     "output_type": "stream",
     "text": [
      "Exactitud Promedio (Varianza): 0.9950 (+/- 0.0055)\n",
      "Exactitud de cada fold= [0.9963 0.9945 0.9945 0.9945 0.9982 0.9945 1.     0.9907 0.9907 0.9963]\n"
     ]
    }
   ],
   "source": [
    "# Ahora implemento 10 Fold Cross Validation\n",
    "scores = cross_val_score(SVC(kernel=\"linear\"), data_merged, allClasses, cv=10, n_jobs = 1)\n",
    "# Con esto puede calcular la exactitud promedio y la varianza\n",
    "print(\"Exactitud Promedio (Varianza): %0.4f (+/- %0.4f)\" % (scores.mean(), scores.std() * 2))\n",
    "\n",
    "np.set_printoptions(precision=4)\n",
    "print(\"Exactitud de cada fold= {}\".format(scores))\n"
   ]
  }
 ],
 "metadata": {
  "kernelspec": {
   "display_name": "Python 3",
   "language": "python",
   "name": "python3"
  },
  "language_info": {
   "codemirror_mode": {
    "name": "ipython",
    "version": 3
   },
   "file_extension": ".py",
   "mimetype": "text/x-python",
   "name": "python",
   "nbconvert_exporter": "python",
   "pygments_lexer": "ipython3",
   "version": "3.7.1"
  }
 },
 "nbformat": 4,
 "nbformat_minor": 2
}
